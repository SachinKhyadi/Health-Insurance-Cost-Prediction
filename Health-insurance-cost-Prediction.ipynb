{
 "cells": [
  {
   "cell_type": "markdown",
   "id": "6918e18a-c248-4929-b552-7aee2057c0eb",
   "metadata": {
    "collapsed": false,
    "jupyter": {
     "outputs_hidden": false,
     "source_hidden": false
    }
   },
   "source": [
    "# Solving Data Science problem using PYTHON on Predicting Healthcare Insurance Costs\n",
    "\n",
    "This is data science project that combines healthcare insights and predictive analytics. Our task here is to predict customer healthcare costs using the power of machine learning. Our insights will help tailor services and guide customers in planning their healthcare expenses more effectively.\n",
    "\n",
    "## Dataset Summary\n",
    "\n",
    "Our primary tool: the `insurance.csv` dataset. Packed with information on health insurance customers, this dataset is our key to unlocking patterns in healthcare costs. Here's what we need to know about the data you'll be working with:\n",
    "\n",
    "## insurance.csv\n",
    "| Column    | Data Type | Description                                                      |\n",
    "|-----------|-----------|------------------------------------------------------------------|\n",
    "| `age`       | int       | Age of the primary beneficiary.                                  |\n",
    "| `sex`       | object    | Gender of the insurance contractor (male or female).             |\n",
    "| `bmi`       | float     | Body mass index, a key indicator of body fat based on height and weight. |\n",
    "| `children`  | int       | Number of dependents covered by the insurance plan.              |\n",
    "| `smoker`    | object    | Indicates whether the beneficiary smokes (yes or no).            |\n",
    "| `region`    | object    | The beneficiary's residential area in the US, divided into four regions. |\n",
    "| `charges`   | float     | Individual medical costs billed by health insurance.             |\n",
    "\n",
    "\n",
    "\n",
    "A bit of data cleaning is key to ensure the dataset is ready for modeling. Once our model is built using the `insurance.csv` dataset, the next step is to apply it to the `validation_dataset.csv`. This new dataset, similar to our training data minus the `charges` column, tests your model's accuracy and real-world utility by predicting costs for new customers.\n",
    "\n",
    "## Let's Get Started!\n",
    "\n",
    "This project is our playground for applying data science in a meaningful way, offering insights that have real-world applications. Ready to explore the data and uncover insights that could revolutionize healthcare planning? Let's begin this exciting journey!"
   ]
  },
  {
   "cell_type": "code",
   "execution_count": 1,
   "id": "81a07c66-a3d4-4fdd-9c3c-7b3a19b80d62",
   "metadata": {
    "executionCancelledAt": null,
    "executionTime": null,
    "lastExecutedAt": null,
    "lastExecutedByKernel": null,
    "lastScheduledRunId": null,
    "lastSuccessfullyExecutedCode": null,
    "outputsMetadata": {
     "0": {
      "height": 222,
      "type": "dataFrame"
     }
    }
   },
   "outputs": [
    {
     "data": {
      "text/html": [
       "<div>\n",
       "<style scoped>\n",
       "    .dataframe tbody tr th:only-of-type {\n",
       "        vertical-align: middle;\n",
       "    }\n",
       "\n",
       "    .dataframe tbody tr th {\n",
       "        vertical-align: top;\n",
       "    }\n",
       "\n",
       "    .dataframe thead th {\n",
       "        text-align: right;\n",
       "    }\n",
       "</style>\n",
       "<table border=\"1\" class=\"dataframe\">\n",
       "  <thead>\n",
       "    <tr style=\"text-align: right;\">\n",
       "      <th></th>\n",
       "      <th>age</th>\n",
       "      <th>sex</th>\n",
       "      <th>bmi</th>\n",
       "      <th>children</th>\n",
       "      <th>smoker</th>\n",
       "      <th>region</th>\n",
       "      <th>charges</th>\n",
       "    </tr>\n",
       "  </thead>\n",
       "  <tbody>\n",
       "    <tr>\n",
       "      <th>0</th>\n",
       "      <td>19.0</td>\n",
       "      <td>female</td>\n",
       "      <td>27.900</td>\n",
       "      <td>0.0</td>\n",
       "      <td>yes</td>\n",
       "      <td>southwest</td>\n",
       "      <td>16884.924</td>\n",
       "    </tr>\n",
       "    <tr>\n",
       "      <th>1</th>\n",
       "      <td>18.0</td>\n",
       "      <td>male</td>\n",
       "      <td>33.770</td>\n",
       "      <td>1.0</td>\n",
       "      <td>no</td>\n",
       "      <td>Southeast</td>\n",
       "      <td>1725.5523</td>\n",
       "    </tr>\n",
       "    <tr>\n",
       "      <th>2</th>\n",
       "      <td>28.0</td>\n",
       "      <td>male</td>\n",
       "      <td>33.000</td>\n",
       "      <td>3.0</td>\n",
       "      <td>no</td>\n",
       "      <td>southeast</td>\n",
       "      <td>$4449.462</td>\n",
       "    </tr>\n",
       "    <tr>\n",
       "      <th>3</th>\n",
       "      <td>33.0</td>\n",
       "      <td>male</td>\n",
       "      <td>22.705</td>\n",
       "      <td>0.0</td>\n",
       "      <td>no</td>\n",
       "      <td>northwest</td>\n",
       "      <td>$21984.47061</td>\n",
       "    </tr>\n",
       "    <tr>\n",
       "      <th>4</th>\n",
       "      <td>32.0</td>\n",
       "      <td>male</td>\n",
       "      <td>28.880</td>\n",
       "      <td>0.0</td>\n",
       "      <td>no</td>\n",
       "      <td>northwest</td>\n",
       "      <td>$3866.8552</td>\n",
       "    </tr>\n",
       "  </tbody>\n",
       "</table>\n",
       "</div>"
      ],
      "text/plain": [
       "    age     sex     bmi  children smoker     region       charges\n",
       "0  19.0  female  27.900       0.0    yes  southwest     16884.924\n",
       "1  18.0    male  33.770       1.0     no  Southeast     1725.5523\n",
       "2  28.0    male  33.000       3.0     no  southeast     $4449.462\n",
       "3  33.0    male  22.705       0.0     no  northwest  $21984.47061\n",
       "4  32.0    male  28.880       0.0     no  northwest    $3866.8552"
      ]
     },
     "execution_count": 1,
     "metadata": {},
     "output_type": "execute_result"
    }
   ],
   "source": [
    "# Import required libraries\n",
    "import pandas as pd\n",
    "import numpy as np\n",
    "from sklearn.preprocessing import StandardScaler\n",
    "from sklearn.model_selection import cross_val_score\n",
    "\n",
    "# Loading the insurance dataset\n",
    "insurance_data_path = 'insurance.csv'\n",
    "insurance = pd.read_csv(\"C:/Users/sachi/Downloads/insurance.csv\")\n",
    "insurance.head()\n"
   ]
  },
  {
   "cell_type": "markdown",
   "id": "f4e5c2f7-6723-4389-8eee-5af87cfc8519",
   "metadata": {},
   "source": [
    "### Task #1: Clean up the data\n",
    "### - Are there any missing values? x\n",
    "### - Standardize categories in region x\n",
    "### - Standardize sex to just two categories x\n",
    "### - Change smoker column to boolean x \n",
    "### - Standardize charges data type (float)"
   ]
  },
  {
   "cell_type": "code",
   "execution_count": 2,
   "id": "5f3c1b73-c5a2-4ea6-9c40-c075953ce83d",
   "metadata": {},
   "outputs": [
    {
     "name": "stdout",
     "output_type": "stream",
     "text": [
      "<class 'pandas.core.frame.DataFrame'>\n",
      "Index: 1208 entries, 0 to 1337\n",
      "Data columns (total 7 columns):\n",
      " #   Column    Non-Null Count  Dtype  \n",
      "---  ------    --------------  -----  \n",
      " 0   age       1208 non-null   float64\n",
      " 1   sex       1208 non-null   object \n",
      " 2   bmi       1208 non-null   float64\n",
      " 3   children  1208 non-null   float64\n",
      " 4   smoker    1208 non-null   object \n",
      " 5   region    1208 non-null   object \n",
      " 6   charges   1208 non-null   object \n",
      "dtypes: float64(3), object(4)\n",
      "memory usage: 75.5+ KB\n"
     ]
    }
   ],
   "source": [
    "insurance_filled = insurance.dropna()\n",
    "insurance_filled.info()"
   ]
  },
  {
   "cell_type": "code",
   "execution_count": 3,
   "id": "e2c9363b-feba-49c5-9493-66a96b865819",
   "metadata": {},
   "outputs": [
    {
     "name": "stderr",
     "output_type": "stream",
     "text": [
      "C:\\Users\\sachi\\AppData\\Local\\Temp\\ipykernel_18884\\2605483358.py:2: SettingWithCopyWarning: \n",
      "A value is trying to be set on a copy of a slice from a DataFrame.\n",
      "Try using .loc[row_indexer,col_indexer] = value instead\n",
      "\n",
      "See the caveats in the documentation: https://pandas.pydata.org/pandas-docs/stable/user_guide/indexing.html#returning-a-view-versus-a-copy\n",
      "  insurance_filled['region'] = insurance_filled['region'].str.lower()\n"
     ]
    },
    {
     "data": {
      "text/plain": [
       "array(['southwest', 'southeast', 'northwest', 'northeast'], dtype=object)"
      ]
     },
     "execution_count": 3,
     "metadata": {},
     "output_type": "execute_result"
    }
   ],
   "source": [
    "# standardize categories into regions\n",
    "insurance_filled['region'] = insurance_filled['region'].str.lower()\n",
    "insurance_filled['region'].unique()"
   ]
  },
  {
   "cell_type": "code",
   "execution_count": 5,
   "id": "a5bdc8a0-7f4d-4809-98e2-f083acf1c75d",
   "metadata": {},
   "outputs": [
    {
     "name": "stderr",
     "output_type": "stream",
     "text": [
      "C:\\Users\\sachi\\AppData\\Local\\Temp\\ipykernel_18884\\2093501967.py:6: SettingWithCopyWarning: \n",
      "A value is trying to be set on a copy of a slice from a DataFrame.\n",
      "Try using .loc[row_indexer,col_indexer] = value instead\n",
      "\n",
      "See the caveats in the documentation: https://pandas.pydata.org/pandas-docs/stable/user_guide/indexing.html#returning-a-view-versus-a-copy\n",
      "  insurance_filled['sex'] = insurance_filled['sex'].replace(sex_map)\n"
     ]
    },
    {
     "data": {
      "text/plain": [
       "array(['female', 'male'], dtype=object)"
      ]
     },
     "execution_count": 5,
     "metadata": {},
     "output_type": "execute_result"
    }
   ],
   "source": [
    "# - Standardize sex to just two categories x\n",
    "FEMALE = 'female'\n",
    "MALE = 'male'\n",
    "sex_map = {'F': FEMALE, 'woman': FEMALE, 'man': MALE, 'M': MALE}\n",
    "\n",
    "insurance_filled['sex'] = insurance_filled['sex'].replace(sex_map)\n",
    "insurance_filled['sex'].unique()"
   ]
  },
  {
   "cell_type": "code",
   "execution_count": 6,
   "id": "56519cef-18e0-495c-bbc2-e3d94715d995",
   "metadata": {},
   "outputs": [
    {
     "name": "stderr",
     "output_type": "stream",
     "text": [
      "C:\\Users\\sachi\\AppData\\Local\\Temp\\ipykernel_18884\\3717151041.py:2: SettingWithCopyWarning: \n",
      "A value is trying to be set on a copy of a slice from a DataFrame.\n",
      "Try using .loc[row_indexer,col_indexer] = value instead\n",
      "\n",
      "See the caveats in the documentation: https://pandas.pydata.org/pandas-docs/stable/user_guide/indexing.html#returning-a-view-versus-a-copy\n",
      "  insurance_filled['smoker'] = (insurance_filled['smoker'] == 'yes')\n"
     ]
    },
    {
     "data": {
      "text/plain": [
       "array([ True, False])"
      ]
     },
     "execution_count": 6,
     "metadata": {},
     "output_type": "execute_result"
    }
   ],
   "source": [
    "#- Change smoker column to boolean x \n",
    "insurance_filled['smoker'] = (insurance_filled['smoker'] == 'yes')\n",
    "insurance_filled['smoker'].unique()"
   ]
  },
  {
   "cell_type": "code",
   "execution_count": 7,
   "id": "12472164-4ba6-4acd-826a-5180b0a29075",
   "metadata": {},
   "outputs": [
    {
     "name": "stderr",
     "output_type": "stream",
     "text": [
      "C:\\Users\\sachi\\AppData\\Local\\Temp\\ipykernel_18884\\2750097744.py:2: SettingWithCopyWarning: \n",
      "A value is trying to be set on a copy of a slice from a DataFrame.\n",
      "Try using .loc[row_indexer,col_indexer] = value instead\n",
      "\n",
      "See the caveats in the documentation: https://pandas.pydata.org/pandas-docs/stable/user_guide/indexing.html#returning-a-view-versus-a-copy\n",
      "  insurance_filled['charges'] = insurance_filled['charges'].str.strip('$').astype('float64')\n"
     ]
    },
    {
     "data": {
      "text/html": [
       "<div>\n",
       "<style scoped>\n",
       "    .dataframe tbody tr th:only-of-type {\n",
       "        vertical-align: middle;\n",
       "    }\n",
       "\n",
       "    .dataframe tbody tr th {\n",
       "        vertical-align: top;\n",
       "    }\n",
       "\n",
       "    .dataframe thead th {\n",
       "        text-align: right;\n",
       "    }\n",
       "</style>\n",
       "<table border=\"1\" class=\"dataframe\">\n",
       "  <thead>\n",
       "    <tr style=\"text-align: right;\">\n",
       "      <th></th>\n",
       "      <th>age</th>\n",
       "      <th>sex</th>\n",
       "      <th>bmi</th>\n",
       "      <th>children</th>\n",
       "      <th>smoker</th>\n",
       "      <th>region</th>\n",
       "      <th>charges</th>\n",
       "    </tr>\n",
       "  </thead>\n",
       "  <tbody>\n",
       "    <tr>\n",
       "      <th>1165</th>\n",
       "      <td>35.0</td>\n",
       "      <td>female</td>\n",
       "      <td>26.125</td>\n",
       "      <td>0.0</td>\n",
       "      <td>False</td>\n",
       "      <td>northeast</td>\n",
       "      <td>5227.98875</td>\n",
       "    </tr>\n",
       "    <tr>\n",
       "      <th>98</th>\n",
       "      <td>56.0</td>\n",
       "      <td>male</td>\n",
       "      <td>19.950</td>\n",
       "      <td>0.0</td>\n",
       "      <td>True</td>\n",
       "      <td>northeast</td>\n",
       "      <td>22412.64850</td>\n",
       "    </tr>\n",
       "    <tr>\n",
       "      <th>583</th>\n",
       "      <td>32.0</td>\n",
       "      <td>female</td>\n",
       "      <td>23.650</td>\n",
       "      <td>1.0</td>\n",
       "      <td>False</td>\n",
       "      <td>southeast</td>\n",
       "      <td>17626.23951</td>\n",
       "    </tr>\n",
       "    <tr>\n",
       "      <th>1307</th>\n",
       "      <td>32.0</td>\n",
       "      <td>male</td>\n",
       "      <td>28.120</td>\n",
       "      <td>4.0</td>\n",
       "      <td>True</td>\n",
       "      <td>northwest</td>\n",
       "      <td>21472.47880</td>\n",
       "    </tr>\n",
       "    <tr>\n",
       "      <th>629</th>\n",
       "      <td>44.0</td>\n",
       "      <td>female</td>\n",
       "      <td>38.950</td>\n",
       "      <td>0.0</td>\n",
       "      <td>True</td>\n",
       "      <td>northwest</td>\n",
       "      <td>42983.45850</td>\n",
       "    </tr>\n",
       "    <tr>\n",
       "      <th>470</th>\n",
       "      <td>27.0</td>\n",
       "      <td>male</td>\n",
       "      <td>32.670</td>\n",
       "      <td>0.0</td>\n",
       "      <td>False</td>\n",
       "      <td>southeast</td>\n",
       "      <td>2497.03830</td>\n",
       "    </tr>\n",
       "    <tr>\n",
       "      <th>1006</th>\n",
       "      <td>28.0</td>\n",
       "      <td>male</td>\n",
       "      <td>29.260</td>\n",
       "      <td>2.0</td>\n",
       "      <td>False</td>\n",
       "      <td>northeast</td>\n",
       "      <td>4438.26340</td>\n",
       "    </tr>\n",
       "    <tr>\n",
       "      <th>1233</th>\n",
       "      <td>58.0</td>\n",
       "      <td>male</td>\n",
       "      <td>23.300</td>\n",
       "      <td>0.0</td>\n",
       "      <td>False</td>\n",
       "      <td>southwest</td>\n",
       "      <td>11345.51900</td>\n",
       "    </tr>\n",
       "    <tr>\n",
       "      <th>931</th>\n",
       "      <td>39.0</td>\n",
       "      <td>female</td>\n",
       "      <td>32.500</td>\n",
       "      <td>1.0</td>\n",
       "      <td>False</td>\n",
       "      <td>southwest</td>\n",
       "      <td>6238.29800</td>\n",
       "    </tr>\n",
       "    <tr>\n",
       "      <th>1238</th>\n",
       "      <td>37.0</td>\n",
       "      <td>male</td>\n",
       "      <td>22.705</td>\n",
       "      <td>3.0</td>\n",
       "      <td>False</td>\n",
       "      <td>northeast</td>\n",
       "      <td>6985.50695</td>\n",
       "    </tr>\n",
       "  </tbody>\n",
       "</table>\n",
       "</div>"
      ],
      "text/plain": [
       "       age     sex     bmi  children  smoker     region      charges\n",
       "1165  35.0  female  26.125       0.0   False  northeast   5227.98875\n",
       "98    56.0    male  19.950       0.0    True  northeast  22412.64850\n",
       "583   32.0  female  23.650       1.0   False  southeast  17626.23951\n",
       "1307  32.0    male  28.120       4.0    True  northwest  21472.47880\n",
       "629   44.0  female  38.950       0.0    True  northwest  42983.45850\n",
       "470   27.0    male  32.670       0.0   False  southeast   2497.03830\n",
       "1006  28.0    male  29.260       2.0   False  northeast   4438.26340\n",
       "1233  58.0    male  23.300       0.0   False  southwest  11345.51900\n",
       "931   39.0  female  32.500       1.0   False  southwest   6238.29800\n",
       "1238  37.0    male  22.705       3.0   False  northeast   6985.50695"
      ]
     },
     "execution_count": 7,
     "metadata": {},
     "output_type": "execute_result"
    }
   ],
   "source": [
    "# - Standardize charges data type (float) \n",
    "insurance_filled['charges'] = insurance_filled['charges'].str.strip('$').astype('float64')\n",
    "\n",
    "insurance_pos = insurance_filled.apply(lambda x: x.abs() if np.issubdtype(x.dtype, np.number) else x)\n",
    "\n",
    "insurance_pos.sample(10)"
   ]
  },
  {
   "cell_type": "markdown",
   "id": "3074a782-a9ab-4ab6-b2a9-c2b8e4ea8984",
   "metadata": {},
   "source": [
    "# Task #2: Draw Scatterplots of relationships between variables & charges"
   ]
  },
  {
   "cell_type": "code",
   "execution_count": 29,
   "id": "17271a60-42af-444c-b78a-1cf2e9e4535e",
   "metadata": {},
   "outputs": [
    {
     "data": {
      "text/plain": [
       "<matplotlib.collections.PathCollection at 0x1bf08b39010>"
      ]
     },
     "execution_count": 29,
     "metadata": {},
     "output_type": "execute_result"
    },
    {
     "data": {
      "image/png": "[encoded data removed]",
      "text/plain": [
       "<Figure size 640x480 with 1 Axes>"
      ]
     },
     "metadata": {},
     "output_type": "display_data"
    }
   ],
   "source": [
    "# Task #2: Scatterplots of relationships between variables & charges\n",
    "import matplotlib.pyplot as plt\n",
    "\n",
    "df = insurance_pos.copy()\n",
    "\n",
    "# Observations\n",
    "# Smokers generally incur higher insurance charges. In your sample, all smoker values are False, so this plot will only show non-smoker data.\n",
    "# This indicates that for this subset, smoking is not influencing charges.\n",
    "\n",
    "plt.scatter(df['smoker'], df['charges'])"
   ]
  },
  {
   "cell_type": "code",
   "execution_count": 24,
   "id": "f5fc2d90-15fe-45d0-8a2c-ce9252f6c9aa",
   "metadata": {},
   "outputs": [
    {
     "data": {
      "text/plain": [
       "<matplotlib.collections.PathCollection at 0x1bf069fffb0>"
      ]
     },
     "execution_count": 24,
     "metadata": {},
     "output_type": "execute_result"
    },
    {
     "data": {
      "image/png": "[encoded data removed]",
      "text/plain": [
       "<Figure size 640x480 with 1 Axes>"
      ]
     },
     "metadata": {},
     "output_type": "display_data"
    }
   ],
   "source": [
    "# Observations:\n",
    "# Differences in charges may appear between regions. For example:\n",
    "# The southeast region might show higher charges (e.g., row 842 with a charge of 36021.01).\n",
    "# Other regions, like northwest and southwest, might show more moderate charges.\n",
    "# If a specific region consistently has higher or lower charges, this might suggest geographic differences in insurance costs.\n",
    "df = insurance_pos.copy()\n",
    "\n",
    "plt.scatter(df['region'], df['charges'])"
   ]
  },
  {
   "cell_type": "code",
   "execution_count": 25,
   "id": "2a07d3a7-6528-45d3-bb38-b102fe4a833b",
   "metadata": {},
   "outputs": [
    {
     "data": {
      "text/plain": [
       "<matplotlib.collections.PathCollection at 0x1bf08b5e5d0>"
      ]
     },
     "execution_count": 25,
     "metadata": {},
     "output_type": "execute_result"
    },
    {
     "data": {
      "image/png": "[encoded data removed]",
      "text/plain": [
       "<Figure size 640x480 with 1 Axes>"
      ]
     },
     "metadata": {},
     "output_type": "display_data"
    }
   ],
   "source": [
    "# Observations:\n",
    "# Older individuals often have higher charges due to increased health risks. For example:\n",
    "# At age 63 (row 1079), charges are 15161.53.\n",
    "# However, age 19 (rows 1129 and 106) has significantly lower charges (e.g., 1728.90 and 2331.52).\n",
    "# A positive correlation between age and charges is likely, but there could be exceptions influenced by other factors like smoker or bmi.\n",
    "plt.scatter(df['age'], df['charges'])"
   ]
  },
  {
   "cell_type": "code",
   "execution_count": 26,
   "id": "3765d0bd-3858-4de2-96cf-85b17f8645fc",
   "metadata": {},
   "outputs": [
    {
     "data": {
      "text/plain": [
       "<matplotlib.collections.PathCollection at 0x1bf08b3bc20>"
      ]
     },
     "execution_count": 26,
     "metadata": {},
     "output_type": "execute_result"
    },
    {
     "data": {
      "image/png": "[encoded data removed]",
      "text/plain": [
       "<Figure size 640x480 with 1 Axes>"
      ]
     },
     "metadata": {},
     "output_type": "display_data"
    }
   ],
   "source": [
    "# Observations:\n",
    "# There may not be a strong trend between children and charges. For example:\n",
    "# Row 963 has 3 children but a moderate charge of 9500.57.\n",
    "# Row 1054 has 0 children but a much lower charge of 3353.47.\n",
    "# Charges might depend more on other factors like bmi, age, or smoker rather than children\n",
    "\n",
    "plt.scatter(df['children'], df['charges'])"
   ]
  },
  {
   "cell_type": "code",
   "execution_count": 27,
   "id": "b449d903-0e88-406a-8d99-468aaf2e10d2",
   "metadata": {},
   "outputs": [
    {
     "data": {
      "text/plain": [
       "<matplotlib.collections.PathCollection at 0x1bf08cc35f0>"
      ]
     },
     "execution_count": 27,
     "metadata": {},
     "output_type": "execute_result"
    },
    {
     "data": {
      "image/png": "[encoded data removed]",
      "text/plain": [
       "<Figure size 640x480 with 1 Axes>"
      ]
     },
     "metadata": {},
     "output_type": "display_data"
    }
   ],
   "source": [
    "# Observations:\n",
    "# The sample data does not suggest a clear trend of charges differing by sex.\n",
    "# For example, male (row 244) has charges of 29523.17, while female (row 842) has even higher charges of 36021.01.\n",
    "# Gender alone might not be a strong determinant of charges without considering other factors.\n",
    "\n",
    "plt.scatter(df['sex'], df['charges'])"
   ]
  },
  {
   "cell_type": "code",
   "execution_count": 28,
   "id": "0199eb44-a5c7-45c8-9a7d-020d2d755695",
   "metadata": {},
   "outputs": [
    {
     "data": {
      "text/plain": [
       "<matplotlib.collections.PathCollection at 0x1bf08d1da90>"
      ]
     },
     "execution_count": 28,
     "metadata": {},
     "output_type": "execute_result"
    },
    {
     "data": {
      "image/png": "[encoded data removed]",
      "text/plain": [
       "<Figure size 640x480 with 1 Axes>"
      ]
     },
     "metadata": {},
     "output_type": "display_data"
    }
   ],
   "source": [
    "# Observations:\n",
    "# Higher BMI values might be associated with higher charges, as obesity often correlates with increased health risks. For example:\n",
    "# Row 1239 (BMI = 42.13) has a charge of 3238.43, which is relatively low for a high BMI. This might be because the individual is young (age 50) or not a smoker.\n",
    "# Row 842 (BMI = 32.78) has extremely high charges (36021.01), possibly due to other factors such as age.\n",
    "#A weak to moderate positive correlation is expected, especially when combined with factors like smoker.\n",
    "\n",
    "plt.scatter(df['bmi'], df['charges'])"
   ]
  },
  {
   "cell_type": "markdown",
   "id": "6aba2813-46f8-4c71-855f-dc0a6f62fd41",
   "metadata": {},
   "source": [
    "# Task #3 - Prepare the data for a model fitting"
   ]
  },
  {
   "cell_type": "code",
   "execution_count": 15,
   "id": "23108b99-57cd-462a-97c2-491e2296ed02",
   "metadata": {},
   "outputs": [],
   "source": [
    "# To create a model we have to convert the variables into numericals for machine understanding\n",
    "# firstly we are creating a dummy values of regions and evaluating the values of it and we got to know that region southeast has more than other regions values\n",
    "# we are removing southeast region in next step because it appears most frequently\n",
    "df_new = pd.get_dummies(df, prefix=['region'], columns=['region'])\n",
    "df_new = df_new.drop(columns=['region_southeast'])\n"
   ]
  },
  {
   "cell_type": "code",
   "execution_count": 17,
   "id": "aece8c9a-aa75-4cd0-82a0-c8c88646a43c",
   "metadata": {},
   "outputs": [
    {
     "name": "stdout",
     "output_type": "stream",
     "text": [
      "<class 'pandas.core.frame.DataFrame'>\n",
      "Index: 1208 entries, 0 to 1337\n",
      "Data columns (total 9 columns):\n",
      " #   Column            Non-Null Count  Dtype  \n",
      "---  ------            --------------  -----  \n",
      " 0   age               1208 non-null   float64\n",
      " 1   sex               1208 non-null   object \n",
      " 2   bmi               1208 non-null   float64\n",
      " 3   children          1208 non-null   float64\n",
      " 4   smoker            1208 non-null   int64  \n",
      " 5   charges           1207 non-null   float64\n",
      " 6   region_northeast  1208 non-null   bool   \n",
      " 7   region_northwest  1208 non-null   bool   \n",
      " 8   region_southwest  1208 non-null   bool   \n",
      "dtypes: bool(3), float64(4), int64(1), object(1)\n",
      "memory usage: 69.6+ KB\n"
     ]
    }
   ],
   "source": [
    "df_new['smoker'] = df_new['smoker'].astype('int64')\n",
    "df_new.info()"
   ]
  },
  {
   "cell_type": "code",
   "execution_count": 18,
   "id": "ce66ab37-2dd7-4680-bc9b-a60856969d5b",
   "metadata": {},
   "outputs": [],
   "source": [
    "df_new['is_male'] = (df_new['sex'] == 'male').astype('int64')\n",
    "df_new = df_new.drop(columns=['sex'])"
   ]
  },
  {
   "cell_type": "code",
   "execution_count": 19,
   "id": "81faa193-7db9-40ac-8600-a39aa9017a3f",
   "metadata": {},
   "outputs": [
    {
     "data": {
      "text/html": [
       "<div>\n",
       "<style scoped>\n",
       "    .dataframe tbody tr th:only-of-type {\n",
       "        vertical-align: middle;\n",
       "    }\n",
       "\n",
       "    .dataframe tbody tr th {\n",
       "        vertical-align: top;\n",
       "    }\n",
       "\n",
       "    .dataframe thead th {\n",
       "        text-align: right;\n",
       "    }\n",
       "</style>\n",
       "<table border=\"1\" class=\"dataframe\">\n",
       "  <thead>\n",
       "    <tr style=\"text-align: right;\">\n",
       "      <th></th>\n",
       "      <th>age</th>\n",
       "      <th>bmi</th>\n",
       "      <th>children</th>\n",
       "      <th>smoker</th>\n",
       "      <th>charges</th>\n",
       "      <th>region_northeast</th>\n",
       "      <th>region_northwest</th>\n",
       "      <th>region_southwest</th>\n",
       "      <th>is_male</th>\n",
       "    </tr>\n",
       "  </thead>\n",
       "  <tbody>\n",
       "    <tr>\n",
       "      <th>0</th>\n",
       "      <td>19.0</td>\n",
       "      <td>27.900</td>\n",
       "      <td>0.0</td>\n",
       "      <td>1</td>\n",
       "      <td>16884.92400</td>\n",
       "      <td>False</td>\n",
       "      <td>False</td>\n",
       "      <td>True</td>\n",
       "      <td>0</td>\n",
       "    </tr>\n",
       "    <tr>\n",
       "      <th>1</th>\n",
       "      <td>18.0</td>\n",
       "      <td>33.770</td>\n",
       "      <td>1.0</td>\n",
       "      <td>0</td>\n",
       "      <td>1725.55230</td>\n",
       "      <td>False</td>\n",
       "      <td>False</td>\n",
       "      <td>False</td>\n",
       "      <td>1</td>\n",
       "    </tr>\n",
       "    <tr>\n",
       "      <th>2</th>\n",
       "      <td>28.0</td>\n",
       "      <td>33.000</td>\n",
       "      <td>3.0</td>\n",
       "      <td>0</td>\n",
       "      <td>4449.46200</td>\n",
       "      <td>False</td>\n",
       "      <td>False</td>\n",
       "      <td>False</td>\n",
       "      <td>1</td>\n",
       "    </tr>\n",
       "    <tr>\n",
       "      <th>3</th>\n",
       "      <td>33.0</td>\n",
       "      <td>22.705</td>\n",
       "      <td>0.0</td>\n",
       "      <td>0</td>\n",
       "      <td>21984.47061</td>\n",
       "      <td>False</td>\n",
       "      <td>True</td>\n",
       "      <td>False</td>\n",
       "      <td>1</td>\n",
       "    </tr>\n",
       "    <tr>\n",
       "      <th>4</th>\n",
       "      <td>32.0</td>\n",
       "      <td>28.880</td>\n",
       "      <td>0.0</td>\n",
       "      <td>0</td>\n",
       "      <td>3866.85520</td>\n",
       "      <td>False</td>\n",
       "      <td>True</td>\n",
       "      <td>False</td>\n",
       "      <td>1</td>\n",
       "    </tr>\n",
       "  </tbody>\n",
       "</table>\n",
       "</div>"
      ],
      "text/plain": [
       "    age     bmi  children  smoker      charges  region_northeast  \\\n",
       "0  19.0  27.900       0.0       1  16884.92400             False   \n",
       "1  18.0  33.770       1.0       0   1725.55230             False   \n",
       "2  28.0  33.000       3.0       0   4449.46200             False   \n",
       "3  33.0  22.705       0.0       0  21984.47061             False   \n",
       "4  32.0  28.880       0.0       0   3866.85520             False   \n",
       "\n",
       "   region_northwest  region_southwest  is_male  \n",
       "0             False              True        0  \n",
       "1             False             False        1  \n",
       "2             False             False        1  \n",
       "3              True             False        1  \n",
       "4              True             False        1  "
      ]
     },
     "execution_count": 19,
     "metadata": {},
     "output_type": "execute_result"
    }
   ],
   "source": [
    "df_new = df_new.dropna()\n",
    "df_new.head()"
   ]
  },
  {
   "cell_type": "code",
   "execution_count": 20,
   "id": "d4c7a7e1-097f-464b-9720-014862097d76",
   "metadata": {},
   "outputs": [
    {
     "name": "stdout",
     "output_type": "stream",
     "text": [
      "<class 'pandas.core.frame.DataFrame'>\n",
      "Index: 1207 entries, 0 to 1337\n",
      "Data columns (total 9 columns):\n",
      " #   Column            Non-Null Count  Dtype  \n",
      "---  ------            --------------  -----  \n",
      " 0   age               1207 non-null   float64\n",
      " 1   bmi               1207 non-null   float64\n",
      " 2   children          1207 non-null   float64\n",
      " 3   smoker            1207 non-null   int64  \n",
      " 4   charges           1207 non-null   float64\n",
      " 5   region_northeast  1207 non-null   bool   \n",
      " 6   region_northwest  1207 non-null   bool   \n",
      " 7   region_southwest  1207 non-null   bool   \n",
      " 8   is_male           1207 non-null   int64  \n",
      "dtypes: bool(3), float64(4), int64(2)\n",
      "memory usage: 69.5 KB\n",
      "None\n",
      "<class 'pandas.core.series.Series'>\n",
      "Index: 1207 entries, 0 to 1337\n",
      "Series name: charges\n",
      "Non-Null Count  Dtype  \n",
      "--------------  -----  \n",
      "1207 non-null   float64\n",
      "dtypes: float64(1)\n",
      "memory usage: 18.9 KB\n",
      "None\n"
     ]
    },
    {
     "data": {
      "text/plain": [
       "0.7049323160872816"
      ]
     },
     "execution_count": 20,
     "metadata": {},
     "output_type": "execute_result"
    }
   ],
   "source": [
    "from sklearn.model_selection import train_test_split\n",
    "from sklearn.linear_model import LinearRegression\n",
    "# from sklearn.kernel_ridge import KernelRidge\n",
    "from sklearn.metrics import r2_score    \n",
    "\n",
    "# Define input and output variables\n",
    "X = df_new.drop(columns=['charges'])\n",
    "y = df_new['charges']\n",
    "\n",
    "print(df_new.info())\n",
    "print(y.info())\n",
    "\n",
    "# Split the data into training and testing sets\n",
    "X_train, X_test, y_train, y_test = train_test_split(X, y, test_size=0.2, random_state=42)\n",
    "\n",
    "# Create and train the linear regression model\n",
    "model = LinearRegression()\n",
    "model.fit(X_train, y_train)\n",
    "\n",
    "# Make predictions on the test set\n",
    "y_pred = model.predict(X_test)\n",
    "\n",
    "# Calculate the R squared score\n",
    "r2_score = r2_score(y_test, y_pred)\n",
    "\n",
    "# Output the mean squared error\n",
    "r2_score"
   ]
  },
  {
   "cell_type": "code",
   "execution_count": 21,
   "id": "28bcaee0-aa63-4d27-bccd-f170e23b5c86",
   "metadata": {},
   "outputs": [],
   "source": [
    "def preprocess_df(df):\n",
    "    df_new = pd.get_dummies(df, prefix=['region'], columns=['region'])\n",
    "    df_new = df_new.drop(columns=['region_southeast'])\n",
    "\n",
    "    df_new['smoker'] = (df_new['smoker'] == 'yes')\n",
    "    df_new['smoker'] = df_new['smoker'].astype('int64')\n",
    "\n",
    "    df_new['is_male'] = (df_new['sex'] == 'male').astype('int64')\n",
    "    df_new = df_new.drop(columns=['sex'])\n",
    "    \n",
    "    return df_new"
   ]
  },
  {
   "cell_type": "code",
   "execution_count": 23,
   "id": "c42b95bc-15b5-4b43-bc02-9ecbcd017854",
   "metadata": {},
   "outputs": [
    {
     "data": {
      "text/html": [
       "<div>\n",
       "<style scoped>\n",
       "    .dataframe tbody tr th:only-of-type {\n",
       "        vertical-align: middle;\n",
       "    }\n",
       "\n",
       "    .dataframe tbody tr th {\n",
       "        vertical-align: top;\n",
       "    }\n",
       "\n",
       "    .dataframe thead th {\n",
       "        text-align: right;\n",
       "    }\n",
       "</style>\n",
       "<table border=\"1\" class=\"dataframe\">\n",
       "  <thead>\n",
       "    <tr style=\"text-align: right;\">\n",
       "      <th></th>\n",
       "      <th>age</th>\n",
       "      <th>sex</th>\n",
       "      <th>bmi</th>\n",
       "      <th>children</th>\n",
       "      <th>smoker</th>\n",
       "      <th>region</th>\n",
       "      <th>predicted_charges</th>\n",
       "    </tr>\n",
       "  </thead>\n",
       "  <tbody>\n",
       "    <tr>\n",
       "      <th>0</th>\n",
       "      <td>18.0</td>\n",
       "      <td>female</td>\n",
       "      <td>24.090000</td>\n",
       "      <td>1.0</td>\n",
       "      <td>no</td>\n",
       "      <td>southeast</td>\n",
       "      <td>1000.000000</td>\n",
       "    </tr>\n",
       "    <tr>\n",
       "      <th>1</th>\n",
       "      <td>39.0</td>\n",
       "      <td>male</td>\n",
       "      <td>26.410000</td>\n",
       "      <td>0.0</td>\n",
       "      <td>yes</td>\n",
       "      <td>northeast</td>\n",
       "      <td>30956.214707</td>\n",
       "    </tr>\n",
       "    <tr>\n",
       "      <th>2</th>\n",
       "      <td>27.0</td>\n",
       "      <td>male</td>\n",
       "      <td>29.150000</td>\n",
       "      <td>0.0</td>\n",
       "      <td>yes</td>\n",
       "      <td>southeast</td>\n",
       "      <td>27799.409607</td>\n",
       "    </tr>\n",
       "    <tr>\n",
       "      <th>3</th>\n",
       "      <td>71.0</td>\n",
       "      <td>male</td>\n",
       "      <td>65.502135</td>\n",
       "      <td>13.0</td>\n",
       "      <td>yes</td>\n",
       "      <td>southeast</td>\n",
       "      <td>57194.414804</td>\n",
       "    </tr>\n",
       "    <tr>\n",
       "      <th>4</th>\n",
       "      <td>28.0</td>\n",
       "      <td>male</td>\n",
       "      <td>38.060000</td>\n",
       "      <td>0.0</td>\n",
       "      <td>no</td>\n",
       "      <td>southeast</td>\n",
       "      <td>6685.426312</td>\n",
       "    </tr>\n",
       "  </tbody>\n",
       "</table>\n",
       "</div>"
      ],
      "text/plain": [
       "    age     sex        bmi  children smoker     region  predicted_charges\n",
       "0  18.0  female  24.090000       1.0     no  southeast        1000.000000\n",
       "1  39.0    male  26.410000       0.0    yes  northeast       30956.214707\n",
       "2  27.0    male  29.150000       0.0    yes  southeast       27799.409607\n",
       "3  71.0    male  65.502135      13.0    yes  southeast       57194.414804\n",
       "4  28.0    male  38.060000       0.0     no  southeast        6685.426312"
      ]
     },
     "execution_count": 23,
     "metadata": {},
     "output_type": "execute_result"
    }
   ],
   "source": [
    "# Implement model creation and training here\n",
    "# Use as many cells as you need\n",
    "\n",
    "# Task #5, see how model performs on validation dataset\n",
    "# Subtask - Create helper function to preprocess dataframe\n",
    "\n",
    "val_df = pd.read_csv('C:/Users/sachi/Downloads/validation_dataset.csv')\n",
    "input_df = preprocess_df(val_df)\n",
    "\n",
    "predictions = model.predict(input_df)\n",
    "\n",
    "validation_data = val_df.copy()\n",
    "\n",
    "validation_data['predicted_charges'] = predictions\n",
    "\n",
    "validation_data.loc[validation_data['predicted_charges'] < 1000, 'predicted_charges'] = 1000\n",
    "\n",
    "validation_data.head()"
   ]
  }
 ],
 "metadata": {
  "colab": {
   "name": "Welcome to DataCamp Workspaces.ipynb",
   "provenance": []
  },
  "kernelspec": {
   "display_name": "Python 3 (ipykernel)",
   "language": "python",
   "name": "python3"
  },
  "language_info": {
   "codemirror_mode": {
    "name": "ipython",
    "version": 3
   },
   "file_extension": ".py",
   "mimetype": "text/x-python",
   "name": "python",
   "nbconvert_exporter": "python",
   "pygments_lexer": "ipython3",
   "version": "3.12.4"
  }
 },
 "nbformat": 4,
 "nbformat_minor": 5
}
